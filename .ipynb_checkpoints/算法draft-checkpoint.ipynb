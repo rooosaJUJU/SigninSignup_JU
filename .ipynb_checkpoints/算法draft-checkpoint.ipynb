{
 "cells": [
  {
   "cell_type": "code",
   "execution_count": 1,
   "id": "27dd7c69",
   "metadata": {},
   "outputs": [],
   "source": [
    "sList = [1,15,34,6,2,10,5676,45,54]\n",
    "s = 0\n",
    "for l in sList: #len(sList) = n\n",
    "    s += l"
   ]
  },
  {
   "cell_type": "code",
   "execution_count": 2,
   "id": "05434610",
   "metadata": {},
   "outputs": [
    {
     "name": "stdout",
     "output_type": "stream",
     "text": [
      "1 15\n",
      "15 1\n",
      "6 10\n",
      "10 6\n"
     ]
    }
   ],
   "source": [
    "s = 16\n",
    "for l in sList:\n",
    "    for j in sList:\n",
    "        if l + j == s:\n",
    "            print(l,j)"
   ]
  },
  {
   "cell_type": "code",
   "execution_count": 3,
   "id": "0ffa5c22",
   "metadata": {},
   "outputs": [
    {
     "data": {
      "text/plain": [
       "5050"
      ]
     },
     "execution_count": 3,
     "metadata": {},
     "output_type": "execute_result"
    }
   ],
   "source": [
    "s = 0\n",
    "i = 1\n",
    "\n",
    "while i <= 100:\n",
    "    s += i\n",
    "    i += 1\n",
    "\n",
    "s"
   ]
  },
  {
   "cell_type": "code",
   "execution_count": 4,
   "id": "1a758c10",
   "metadata": {},
   "outputs": [
    {
     "data": {
      "text/plain": [
       "5050"
      ]
     },
     "execution_count": 4,
     "metadata": {},
     "output_type": "execute_result"
    }
   ],
   "source": [
    "s = 0\n",
    "for i in range(101):\n",
    "    s += i\n",
    "    \n",
    "s"
   ]
  },
  {
   "cell_type": "code",
   "execution_count": 5,
   "id": "33eb5b7f",
   "metadata": {},
   "outputs": [
    {
     "data": {
      "text/plain": [
       "5050"
      ]
     },
     "execution_count": 5,
     "metadata": {},
     "output_type": "execute_result"
    }
   ],
   "source": [
    "list100 = list(range(1,101))\n",
    "s = sum(list100)\n",
    "s"
   ]
  },
  {
   "cell_type": "code",
   "execution_count": 6,
   "id": "a4a7c3e7",
   "metadata": {},
   "outputs": [
    {
     "data": {
      "text/plain": [
       "[3, 5, 1, 7, 4, 9]"
      ]
     },
     "execution_count": 6,
     "metadata": {},
     "output_type": "execute_result"
    }
   ],
   "source": [
    "iList = [7,3,5,1,9,4]\n",
    "\n",
    "for j in range(len(iList)-1):\n",
    "    if iList[j] >= iList[j+1]:\n",
    "        iList[j], iList[j+1] = iList[j+1], iList[j]\n",
    "\n",
    "iList"
   ]
  },
  {
   "cell_type": "code",
   "execution_count": 7,
   "id": "3c63a2f3",
   "metadata": {},
   "outputs": [
    {
     "data": {
      "text/plain": [
       "[3, 1, 5, 4, 7, 9]"
      ]
     },
     "execution_count": 7,
     "metadata": {},
     "output_type": "execute_result"
    }
   ],
   "source": [
    "for j in range(len(iList)-1):\n",
    "    if iList[j] >= iList[j+1]:\n",
    "        iList[j], iList[j+1] = iList[j+1], iList[j]\n",
    "\n",
    "iList"
   ]
  },
  {
   "cell_type": "code",
   "execution_count": 8,
   "id": "8a2a5ee5",
   "metadata": {},
   "outputs": [
    {
     "data": {
      "text/plain": [
       "[1, 3, 4, 5, 7, 9]"
      ]
     },
     "execution_count": 8,
     "metadata": {},
     "output_type": "execute_result"
    }
   ],
   "source": [
    "for j in range(len(iList)-1):\n",
    "    if iList[j] >= iList[j+1]:\n",
    "        iList[j], iList[j+1] = iList[j+1], iList[j]\n",
    "\n",
    "iList"
   ]
  },
  {
   "cell_type": "code",
   "execution_count": 9,
   "id": "20a88355",
   "metadata": {},
   "outputs": [
    {
     "data": {
      "text/plain": [
       "[1, 3, 4, 5, 7, 9]"
      ]
     },
     "execution_count": 9,
     "metadata": {},
     "output_type": "execute_result"
    }
   ],
   "source": [
    "for j in range(len(iList)-1):\n",
    "    if iList[j] >= iList[j+1]:\n",
    "        iList[j], iList[j+1] = iList[j+1], iList[j]\n",
    "\n",
    "iList"
   ]
  },
  {
   "cell_type": "code",
   "execution_count": 10,
   "id": "2fe6e23f",
   "metadata": {},
   "outputs": [
    {
     "data": {
      "text/plain": [
       "[1, 3, 4, 5, 7, 9]"
      ]
     },
     "execution_count": 10,
     "metadata": {},
     "output_type": "execute_result"
    }
   ],
   "source": [
    "for j in range(len(iList)-1):\n",
    "    if iList[j] >= iList[j+1]:\n",
    "        iList[j], iList[j+1] = iList[j+1], iList[j]\n",
    "\n",
    "iList"
   ]
  },
  {
   "cell_type": "code",
   "execution_count": 11,
   "id": "5118a740",
   "metadata": {},
   "outputs": [
    {
     "name": "stdout",
     "output_type": "stream",
     "text": [
      "[359, 881, 32, 905, 463, 940, 433, 637, 185, 281]\n"
     ]
    }
   ],
   "source": [
    "import random\n",
    "\n",
    "def randomList(n):\n",
    "    '''返回一个长度为n的整数列表，数据范围[0，1000)'''\n",
    "    iList = []\n",
    "    \n",
    "    for i in range(n):\n",
    "        iList.append(random.randrange(1000))\n",
    "        \n",
    "    return iList\n",
    "\n",
    "if __name__ == '__main__':\n",
    "    iList = randomList(10)\n",
    "    print(iList)"
   ]
  },
  {
   "cell_type": "code",
   "execution_count": 12,
   "id": "aa3965ba",
   "metadata": {},
   "outputs": [
    {
     "name": "stdout",
     "output_type": "stream",
     "text": [
      "[240, 506, 18, 886, 56, 991, 938, 777, 988, 896, 503, 452, 11, 625, 824, 56, 667, 888, 988, 795] \n",
      "\n",
      "[11, 18, 56, 56, 240, 452, 503, 506, 625, 667, 777, 795, 824, 886, 888, 896, 938, 988, 988, 991] \n",
      "\n",
      "0.0024238749999999643\n"
     ]
    }
   ],
   "source": [
    "import timeit\n",
    "\n",
    "iList = randomList(20)\n",
    "\n",
    "def bubbleSort(iList):\n",
    "    '''冒泡排序'''\n",
    "    if len(iList) <= 1:\n",
    "        return iList\n",
    "    for i in range(1, len(iList)):\n",
    "        for j in range(0, len(iList)-i):\n",
    "            if iList[j] >= iList[j+1]:\n",
    "                iList[j], iList[j+1] = iList[j+1], iList[j]\n",
    "    return iList\n",
    "\n",
    "print(iList, '\\n')\n",
    "print(bubbleSort(iList), '\\n')\n",
    "print(timeit.timeit('bubbleSort(iList)', 'from __main__ import bubbleSort, iList', number = 100))"
   ]
  },
  {
   "cell_type": "code",
   "execution_count": 13,
   "id": "64f9a137",
   "metadata": {},
   "outputs": [
    {
     "data": {
      "text/plain": [
       "[1, 3, 4, 5, 7, 9]"
      ]
     },
     "execution_count": 13,
     "metadata": {},
     "output_type": "execute_result"
    }
   ],
   "source": [
    "iList = [7, 3, 5, 1, 9, 4]\n",
    "\n",
    "for i in range(0,len(iList)-1):\n",
    "    minIndex = i\n",
    "    for j in range(i+1,len(iList)):\n",
    "        if iList[j] <= iList[minIndex]:\n",
    "            minIndex = j\n",
    "    iList[i], iList[minIndex] = iList[minIndex], iList[i]\n",
    "\n",
    "iList"
   ]
  },
  {
   "cell_type": "code",
   "execution_count": 14,
   "id": "c7df3318",
   "metadata": {},
   "outputs": [
    {
     "data": {
      "text/plain": [
       "[1, 3, 5, 7, 9, 4]"
      ]
     },
     "execution_count": 14,
     "metadata": {},
     "output_type": "execute_result"
    }
   ],
   "source": [
    "iList = [7, 3, 5, 1, 9, 4]\n",
    "\n",
    "i = 0\n",
    "\n",
    "minIndex = i\n",
    "for j in range(i+1,len(iList)):\n",
    "    if iList[j] <= iList[minIndex]:\n",
    "        minIndex = j\n",
    "iList[i], iList[minIndex] = iList[minIndex], iList[i]\n",
    "\n",
    "iList"
   ]
  },
  {
   "cell_type": "code",
   "execution_count": 15,
   "id": "419a6e89",
   "metadata": {},
   "outputs": [
    {
     "data": {
      "text/plain": [
       "[1, 3, 5, 7, 9, 4]"
      ]
     },
     "execution_count": 15,
     "metadata": {},
     "output_type": "execute_result"
    }
   ],
   "source": [
    "i = 1\n",
    "\n",
    "minIndex = i\n",
    "for j in range(i+1,len(iList)):\n",
    "    if iList[j] <= iList[minIndex]:\n",
    "        minIndex = j\n",
    "iList[i], iList[minIndex] = iList[minIndex], iList[i]\n",
    "\n",
    "iList"
   ]
  },
  {
   "cell_type": "code",
   "execution_count": 16,
   "id": "9e3752ab",
   "metadata": {},
   "outputs": [
    {
     "data": {
      "text/plain": [
       "[1, 3, 4, 7, 9, 5]"
      ]
     },
     "execution_count": 16,
     "metadata": {},
     "output_type": "execute_result"
    }
   ],
   "source": [
    "i = 2\n",
    "\n",
    "minIndex = i\n",
    "for j in range(i+1,len(iList)):\n",
    "    if iList[j] <= iList[minIndex]:\n",
    "        minIndex = j\n",
    "iList[i], iList[minIndex] = iList[minIndex], iList[i]\n",
    "\n",
    "iList"
   ]
  },
  {
   "cell_type": "code",
   "execution_count": 17,
   "id": "b0940cf8",
   "metadata": {},
   "outputs": [
    {
     "data": {
      "text/plain": [
       "[1, 3, 4, 5, 9, 7]"
      ]
     },
     "execution_count": 17,
     "metadata": {},
     "output_type": "execute_result"
    }
   ],
   "source": [
    "i = 3\n",
    "\n",
    "minIndex = i\n",
    "for j in range(i+1,len(iList)):\n",
    "    if iList[j] <= iList[minIndex]:\n",
    "        minIndex = j\n",
    "iList[i], iList[minIndex] = iList[minIndex], iList[i]\n",
    "\n",
    "iList"
   ]
  },
  {
   "cell_type": "code",
   "execution_count": 18,
   "id": "19aaa774",
   "metadata": {},
   "outputs": [
    {
     "data": {
      "text/plain": [
       "[1, 3, 4, 5, 7, 9]"
      ]
     },
     "execution_count": 18,
     "metadata": {},
     "output_type": "execute_result"
    }
   ],
   "source": [
    "i = 4\n",
    "\n",
    "minIndex = i\n",
    "for j in range(i+1,len(iList)):\n",
    "    if iList[j] <= iList[minIndex]:\n",
    "        minIndex = j\n",
    "iList[i], iList[minIndex] = iList[minIndex], iList[i]\n",
    "\n",
    "iList"
   ]
  },
  {
   "cell_type": "code",
   "execution_count": 19,
   "id": "4b1708a6",
   "metadata": {},
   "outputs": [
    {
     "name": "stdout",
     "output_type": "stream",
     "text": [
      "[895, 724, 432, 731, 915, 53, 2, 656, 934, 589, 332, 48, 524, 330, 153, 977, 440, 252, 867, 789] \n",
      "\n",
      "[2, 48, 53, 153, 252, 330, 332, 432, 440, 524, 589, 656, 724, 731, 789, 867, 895, 915, 934, 977] \n",
      "\n",
      "0.0009203340000000226\n"
     ]
    }
   ],
   "source": [
    "iList = randomList(20)\n",
    "\n",
    "def selectionSort(iList):\n",
    "    if len(iList) <= 1:\n",
    "        return iList\n",
    "    for i in range(0, len(iList)-1):\n",
    "        if iList[i] != min(iList[i:]):\n",
    "            minIndex = iList.index(min(iList[i:]))\n",
    "            iList[i], iList[minIndex] = iList[minIndex], iList[i]\n",
    "    return iList\n",
    "\n",
    "print(iList, '\\n')\n",
    "print(selectionSort(iList), '\\n')\n",
    "print(timeit.timeit('selectionSort(iList)', 'from __main__ import selectionSort,iList', number = 100))"
   ]
  },
  {
   "cell_type": "code",
   "execution_count": 20,
   "id": "87a97483",
   "metadata": {},
   "outputs": [
    {
     "name": "stdout",
     "output_type": "stream",
     "text": [
      "[814, 578, 520, 783, 249, 60, 445, 655, 153, 294, 461, 210, 535, 885, 437, 545, 575, 283, 641, 943] \n",
      "\n",
      "[60, 153, 210, 249, 283, 294, 437, 445, 461, 520, 535, 545, 575, 578, 641, 655, 783, 814, 885, 943] \n",
      "\n",
      "0.001433958000000013\n"
     ]
    }
   ],
   "source": [
    "iList = randomList(20)\n",
    "\n",
    "def insertionSort(iList):\n",
    "    if len(iList) <= 1:\n",
    "        return iList\n",
    "    for right in range(1, len(iList)):\n",
    "        target = iList[right]\n",
    "        for left in range(right):\n",
    "            if target <= iList[left]:\n",
    "                iList[left+1:right+1] = iList[left:right]\n",
    "                #注意right+1其实是只到right的地方，目的是把left部分从比right部分的第一个（target）大的部分都往右移一格\n",
    "                iList[left] = target\n",
    "                #前面多出的当前left用target代替\n",
    "                break\n",
    "    return iList\n",
    "\n",
    "print(iList, '\\n')\n",
    "print(insertionSort(iList), '\\n')\n",
    "print(timeit.timeit('insertionSort(iList)', 'from __main__ import insertionSort,iList', number = 100))"
   ]
  },
  {
   "cell_type": "code",
   "execution_count": 21,
   "id": "2711bfda",
   "metadata": {},
   "outputs": [
    {
     "data": {
      "text/plain": [
       "[1, 2, 2, 3, 5, 6, 7]"
      ]
     },
     "execution_count": 21,
     "metadata": {},
     "output_type": "execute_result"
    }
   ],
   "source": [
    "l = [1,2,3,4,5,6,7]\n",
    "l[2:4] = l[1:3]\n",
    "l"
   ]
  },
  {
   "cell_type": "code",
   "execution_count": 22,
   "id": "a58b4c7c",
   "metadata": {},
   "outputs": [
    {
     "name": "stdout",
     "output_type": "stream",
     "text": [
      "[7, 3, 5] [1, 9, 4]\n"
     ]
    }
   ],
   "source": [
    "iList = [7,3,5,1,9,4]\n",
    "middle = len(iList)//2\n",
    "left, right = iList[:middle], iList[middle:]\n",
    "print(left, right)"
   ]
  },
  {
   "cell_type": "code",
   "execution_count": 23,
   "id": "48cfa484",
   "metadata": {},
   "outputs": [
    {
     "name": "stdout",
     "output_type": "stream",
     "text": [
      "[880, 105, 697, 651, 309, 954, 449, 357, 869, 385, 475, 229, 575, 248, 317, 280, 9, 5, 96, 568]\n",
      "[5, 9, 96, 105, 229, 248, 280, 309, 317, 357, 385, 449, 475, 568, 575, 651, 697, 869, 880, 954]\n",
      "0.002724875000000071\n"
     ]
    }
   ],
   "source": [
    "iList = randomList(20)\n",
    "\n",
    "def mergeSort(iList):\n",
    "    '''分组的工作'''\n",
    "    if len(iList) <= 1:\n",
    "        return iList\n",
    "    \n",
    "    middle = len(iList)//2\n",
    "    left, right = iList[:middle], iList[middle:]\n",
    "    #print(left, right)\n",
    "    return mergeList(mergeSort(left), mergeSort(right))\n",
    "\n",
    "def mergeList(left, right):\n",
    "    '''合并的工作'''\n",
    "    mList = []\n",
    "    \n",
    "    #就是把left和right的第一个进行比较，将小的那个放入mList中，同时从原left（或right）中删除\n",
    "    while left and right:\n",
    "        if left[0] >= right[0]:\n",
    "            mList.append(right.pop(0))\n",
    "        else:\n",
    "            mList.append(left.pop(0))\n",
    "    while left:\n",
    "        mList.append(left.pop(0))\n",
    "    while right:\n",
    "        mList.append(right.pop(0))\n",
    "        \n",
    "    return mList\n",
    "\n",
    "print(iList)\n",
    "print(mergeSort(iList))\n",
    "print(timeit.timeit('mergeSort(iList)', 'from __main__ import mergeSort,iList', number=100))"
   ]
  },
  {
   "cell_type": "code",
   "execution_count": 24,
   "id": "fe0c988e",
   "metadata": {},
   "outputs": [
    {
     "name": "stdout",
     "output_type": "stream",
     "text": [
      "[239, 619, 486, 284, 223, 142, 41, 359, 914, 940, 203, 442, 323, 342, 419, 912, 499, 354, 625, 982]\n",
      "[41, 142, 203, 223, 239, 284, 323, 342, 354, 359, 419, 442, 486, 499, 619, 625, 912, 914, 940, 982]\n",
      "0.0013726250000000162\n"
     ]
    }
   ],
   "source": [
    "iList = randomList(20)\n",
    "\n",
    "def quickSort(iList):\n",
    "    if len(iList) <= 1:\n",
    "        return iList\n",
    "    \n",
    "    left = []\n",
    "    right = []\n",
    "    \n",
    "    for i in iList[1:]:\n",
    "        if i <= iList[0]:\n",
    "            left.append(i)\n",
    "        else:\n",
    "            right.append(i)\n",
    "    return quickSort(left) + [iList[0]] + quickSort(right)\n",
    "    #“引用自身”就是“递归”的思路\n",
    "\n",
    "print(iList)\n",
    "print(quickSort(iList))\n",
    "print(timeit.timeit('quickSort(iList)', 'from __main__ import quickSort,iList', number=100))"
   ]
  },
  {
   "cell_type": "code",
   "execution_count": 25,
   "id": "4399b17a",
   "metadata": {},
   "outputs": [
    {
     "name": "stdout",
     "output_type": "stream",
     "text": [
      "[968, 554, 116, 548, 904, 58, 842, 809, 973, 226, 147, 749, 794, 790, 747, 155, 595, 79, 83, 663]\n",
      "[58, 79, 83, 116, 147, 155, 226, 548, 554, 595, 663, 747, 749, 790, 794, 809, 842, 904, 968, 973]\n",
      "0.00576004199999991\n"
     ]
    }
   ],
   "source": [
    "iList = randomList(20)\n",
    "\n",
    "def countingSort(iList):\n",
    "    if len(iList) <= 1:\n",
    "        return iList\n",
    "    \n",
    "    iLen = len(iList)\n",
    "    rList = [None]*iLen #即每个element都是None\n",
    "    \n",
    "    for i in range(iLen):\n",
    "        small = 0 #比基数小的\n",
    "        same = 0 #与基数相等的\n",
    "        for j in range(iLen):\n",
    "            if iList[j] < iList[i]:\n",
    "                small += 1\n",
    "            elif iList[j] == iList[i]:\n",
    "                same += 1\n",
    "        for k in range(small, small+same):\n",
    "            rList[k] = iList[i] #其实如果有相同的数，应该是会重复赋值的操作的，但应该比比较\n",
    "    return rList\n",
    "\n",
    "print(iList)\n",
    "print(countingSort(iList))\n",
    "print(timeit.timeit('countingSort(iList)','from __main__ import countingSort,iList', number=100))"
   ]
  },
  {
   "cell_type": "code",
   "execution_count": 26,
   "id": "a3faf27d",
   "metadata": {},
   "outputs": [
    {
     "name": "stdout",
     "output_type": "stream",
     "text": [
      "[436, 270, 451, 507, 504, 990, 398, 836, 231, 594, 307, 582, 700, 36, 733, 106, 439, 431, 280, 636]\n",
      "[36, 106, 231, 270, 280, 307, 398, 431, 436, 439, 451, 504, 507, 582, 594, 636, 700, 733, 836, 990]\n",
      "0.006002124999999969\n"
     ]
    }
   ],
   "source": [
    "iList = randomList(20)\n",
    "\n",
    "def countingSort(iList):\n",
    "    if len(iList) <= 1:\n",
    "        return iList\n",
    "    iLen = len(iList)\n",
    "    rList = [None]*iLen\n",
    "    for i in range(iLen):\n",
    "        small = 0 #比基数小的\n",
    "        same = 0 #与基数相等的\n",
    "        for j in range(iLen):\n",
    "            if iList[j] < iList[i]:\n",
    "                small += 1\n",
    "            elif iList[j] == iList[i]:\n",
    "                same += 1\n",
    "        for k in range(small, small+same): #index=small,其实是small+1的位置\n",
    "            rList[k] = iList[i]\n",
    "    return rList\n",
    "\n",
    "print(iList)\n",
    "print(countingSort(iList))\n",
    "print(timeit.timeit('countingSort(iList)', 'from __main__ import countingSort,iList', number=100))"
   ]
  },
  {
   "cell_type": "code",
   "execution_count": 27,
   "id": "ace157ad",
   "metadata": {},
   "outputs": [
    {
     "name": "stdout",
     "output_type": "stream",
     "text": [
      "12\n",
      "342\n",
      "3\n"
     ]
    }
   ],
   "source": [
    "nums = [12,342,3]\n",
    "for i in nums:\n",
    "    print(i)"
   ]
  },
  {
   "cell_type": "code",
   "execution_count": 28,
   "id": "09d69112",
   "metadata": {},
   "outputs": [
    {
     "name": "stdout",
     "output_type": "stream",
     "text": [
      "iList = [107, 988, 852, 161, 310, 733, 530, 140, 409, 46, 655, 371, 571, 274, 709, 270, 220, 551, 13, 330]\n",
      "Find The Number: 13\n",
      "13 is in the list, index is: 18\n",
      "\n",
      "iList = [107, 988, 852, 161, 310, 733, 530, 140, 409, 46, 655, 371, 571, 274, 709, 270, 220, 551, 13, 330]\n",
      "Find The Number: 364\n",
      "364 is not in the list\n",
      "\n"
     ]
    }
   ],
   "source": [
    "iList = randomList(20)\n",
    "\n",
    "def quickSort(iList):\n",
    "    if len(iList) <= 1:\n",
    "        return iList\n",
    "    left = []\n",
    "    right = []\n",
    "    for i in iList[1:]:\n",
    "        if i <= iList[0]:\n",
    "            left.append(i)\n",
    "        else:\n",
    "            right.append(i)\n",
    "    return quickSort(left) + [iList[0]] + quickSort(right)\n",
    "\n",
    "def sequentialSearch(iList, key):\n",
    "    print('iList = %s' %str(iList))\n",
    "    print('Find The Number: %d' %key)\n",
    "    iLen = len(iList)\n",
    "    for i in range(iLen):\n",
    "        if iList[i] == key:\n",
    "            return i\n",
    "    return -1\n",
    "\n",
    "keys = [random.choice(iList), random.randrange(min(iList), max(iList))]\n",
    "#这里呢，第一个key肯定是在iList中；而第二个key就是可能在iList中，也可能不在iList中，不在其中的概率更大\n",
    "\n",
    "for key in keys:\n",
    "    res = sequentialSearch(iList, key)\n",
    "    if res >= 0:\n",
    "        print('%d is in the list, index is: %d\\n' %(key, res))\n",
    "    else:\n",
    "        print('%d is not in the list\\n' %key)"
   ]
  },
  {
   "cell_type": "code",
   "execution_count": 29,
   "id": "b86659e9",
   "metadata": {},
   "outputs": [
    {
     "name": "stdout",
     "output_type": "stream",
     "text": [
      "iList = [0, 63, 88, 188, 317, 355, 449, 518, 544, 628, 658, 729, 745, 767, 847, 882, 900, 958, 961, 987]\n",
      "Find The Number: 847\n",
      "847 is in the list, index is 14\n",
      "\n",
      "iList = [0, 63, 88, 188, 317, 355, 449, 518, 544, 628, 658, 729, 745, 767, 847, 882, 900, 958, 961, 987]\n",
      "Find The Number: 206\n",
      "206 is not in the list\n",
      "\n"
     ]
    }
   ],
   "source": [
    "iList = quickSort(randomList(20))\n",
    "\n",
    "def binarySearch(iList, key):\n",
    "    print('iList = %s' %str(iList))\n",
    "    print('Find The Number: %d' %key)\n",
    "    iLen = len(iList)\n",
    "    left = 0\n",
    "    right = iLen - 1\n",
    "    \n",
    "    while right - left > 1:\n",
    "    #如果不满足，则是“只剩两个数”的情况，就直接看剩下两个是不是就行了\n",
    "        mid = (left + right)//2\n",
    "        if key < iList[mid]:\n",
    "            right = mid\n",
    "        elif key > iList[mid]:\n",
    "            left = mid\n",
    "        else:\n",
    "            return mid\n",
    "    if key == iList[left]:\n",
    "        return left\n",
    "    if key == iList[right]:\n",
    "        return right\n",
    "    else:\n",
    "        return -1\n",
    "    \n",
    "keys = [random.choice(iList), random.randrange(min(iList), max(iList))]\n",
    "\n",
    "for key in keys:\n",
    "    res = binarySearch(iList, key)\n",
    "    if res >= 0:\n",
    "        print('%d is in the list, index is %d\\n' %(key, res))\n",
    "    else:\n",
    "        print('%d is not in the list\\n' %key)"
   ]
  },
  {
   "cell_type": "code",
   "execution_count": 31,
   "id": "e4f3b459",
   "metadata": {},
   "outputs": [
    {
     "name": "stdout",
     "output_type": "stream",
     "text": [
      "iList = [35, 115, 152, 159, 190, 233, 304, 338, 357, 358, 444, 455, 499, 544, 655, 664, 732, 785, 816, 851]\n",
      "Find The Number: 233\n",
      "233 is in the list, index is 5\n",
      "\n",
      "iList = [35, 115, 152, 159, 190, 233, 304, 338, 357, 358, 444, 455, 499, 544, 655, 664, 732, 785, 816, 851]\n",
      "Find The Number: 449\n",
      "449 is not in the list\n",
      "\n"
     ]
    }
   ],
   "source": [
    "iList = quickSort(randomList(20))\n",
    "\n",
    "def fibonacci(n):\n",
    "    '''return the last element of the fibonacci sequence'''\n",
    "    '''而这个fibonacci数列的长度为n+1，n相当于是index来的'''\n",
    "    fList = [1,1]\n",
    "    while n > 1:\n",
    "        fList.append(fList[-1] + fList[-2])\n",
    "        n -= 1\n",
    "    return fList[-1]\n",
    "\n",
    "def fibonacciSearch(iList, key):\n",
    "    print('iList = %s' %str(iList))\n",
    "    print('Find The Number: %d' %key)\n",
    "    iLen = len(iList)\n",
    "    left = 0\n",
    "    right = iLen - 1\n",
    "    indexSum = 0\n",
    "    \n",
    "    k = 1\n",
    "    while fibonacci(k)-1 < iLen-1:\n",
    "    #fibonacci数列中的最后一个元素要比iList的长度稍微大一点才行\n",
    "    #这里比较的index，所以“-1”啦，但为什么fibonacci也要“-1”啊？？？？？\n",
    "        k += 1\n",
    "        \n",
    "    while right - left > 1:\n",
    "        mid = left + fibonacci(k-1)\n",
    "        if key < iList[mid]:\n",
    "            right = mid - 1 #why？？？？\n",
    "            k -= 1\n",
    "        elif key == iList[mid]:\n",
    "            return mid\n",
    "        else:\n",
    "            left = mid + 1 #why？？？？\n",
    "            k -= 2 #剩下的是小的那一部分，所以“-2”，但是怎么就可以“保证fibonacci(k) < 剩下部分的长度了呢？\n",
    "    if key == iList[left]:\n",
    "        return left\n",
    "    elif key == iList[right]:\n",
    "        return right\n",
    "    else:\n",
    "        return -1\n",
    "    \n",
    "keys = [random.choice(iList), random.randrange(min(iList), max(iList))]\n",
    "\n",
    "for key in keys:\n",
    "    res = fibonacciSearch(iList, key)\n",
    "    if res >= 0:\n",
    "        print('%d is in the list, index is %d\\n' %(key, res))\n",
    "    else:\n",
    "        print('%d is not in the list\\n' %key)"
   ]
  },
  {
   "cell_type": "code",
   "execution_count": null,
   "id": "d4f9f595",
   "metadata": {},
   "outputs": [],
   "source": []
  }
 ],
 "metadata": {
  "kernelspec": {
   "display_name": "Python 3",
   "language": "python",
   "name": "python3"
  },
  "language_info": {
   "codemirror_mode": {
    "name": "ipython",
    "version": 3
   },
   "file_extension": ".py",
   "mimetype": "text/x-python",
   "name": "python",
   "nbconvert_exporter": "python",
   "pygments_lexer": "ipython3",
   "version": "3.8.8"
  }
 },
 "nbformat": 4,
 "nbformat_minor": 5
}
