{
 "cells": [
  {
   "cell_type": "markdown",
   "id": "1e3e654f",
   "metadata": {},
   "source": [
    "### 剑指 Offer II 075. 数组相对排序\n",
    "给定两个数组，`arr1` 和 `arr2`，\n",
    "\n",
    "* `arr2` 中的元素各不相同\n",
    "* `arr2` 中的每个元素都出现在 `arr1` 中\n",
    "\n",
    "对 `arr1` 中的元素进行排序，使 `arr1` 中项的相对顺序和 `arr2` 中的相对顺序相同。未在 `arr2` 中出现过的元素需要按照升序放在 `arr1` 的末尾。"
   ]
  },
  {
   "cell_type": "code",
   "execution_count": null,
   "id": "30d9c45f",
   "metadata": {},
   "outputs": [],
   "source": []
  },
  {
   "cell_type": "markdown",
   "id": "ca37b1d2",
   "metadata": {},
   "source": [
    "### 912. 排序数组\n",
    "\n",
    "给你一个整数数组 `nums`，请你将该数组升序排列。"
   ]
  },
  {
   "cell_type": "code",
   "execution_count": 10,
   "id": "ce14f7b3",
   "metadata": {},
   "outputs": [
    {
     "data": {
      "text/plain": [
       "[1, 3, 4, 4, 22, 23, 34, 35]"
      ]
     },
     "execution_count": 10,
     "metadata": {},
     "output_type": "execute_result"
    }
   ],
   "source": [
    "def sortArray(nums):\n",
    "    if len(nums) <= 1:\n",
    "        return nums\n",
    "    left = []\n",
    "    right = []\n",
    "    for i in nums[1:]:\n",
    "        if i <= nums[0]:\n",
    "            left.append(i)\n",
    "        else:\n",
    "            right.append(i)\n",
    "    return sortArray(left) + [nums[0]] + sortArray(right)\n",
    "\n",
    "nums = [23,1,22,4,4,3,34,35]\n",
    "\n",
    "sortArray(nums)"
   ]
  },
  {
   "cell_type": "code",
   "execution_count": null,
   "id": "8803b752",
   "metadata": {},
   "outputs": [],
   "source": [
    "class Solution:\n",
    "    def sortArray(self, nums: List[int]) -> List[int]:\n",
    "        if len(nums) <= 1:\n",
    "            return nums\n",
    "        left = []\n",
    "        right = []\n",
    "        for i in nums[1:]:\n",
    "            if i <= nums[0]:\n",
    "                left.append(i)\n",
    "            else:\n",
    "                right.append(i)\n",
    "        return self.sortArray(left) + [nums[0]] + self.sortArray(right)"
   ]
  },
  {
   "cell_type": "code",
   "execution_count": null,
   "id": "6f9720b0",
   "metadata": {},
   "outputs": [],
   "source": [
    "import numpy as np\n",
    "class Solution:\n",
    "    def sortArray(self, nums: List[int]) -> List[int]:\n",
    "        if len(nums) <= 1:\n",
    "            return nums\n",
    "        left = []\n",
    "        right = []\n",
    "        target = np.random.randint(0,len(nums))\n",
    "        for i in range(len(nums)):\n",
    "            if i == target:\n",
    "                pass\n",
    "            else:\n",
    "                if nums[i] <= nums[target]:\n",
    "                    left.append(nums[i])\n",
    "                else:\n",
    "                    right.append(nums[i])\n",
    "        return self.sortArray(left) + [nums[target]] + self.sortArray(right)"
   ]
  }
 ],
 "metadata": {
  "kernelspec": {
   "display_name": "Python 3",
   "language": "python",
   "name": "python3"
  },
  "language_info": {
   "codemirror_mode": {
    "name": "ipython",
    "version": 3
   },
   "file_extension": ".py",
   "mimetype": "text/x-python",
   "name": "python",
   "nbconvert_exporter": "python",
   "pygments_lexer": "ipython3",
   "version": "3.8.8"
  }
 },
 "nbformat": 4,
 "nbformat_minor": 5
}
